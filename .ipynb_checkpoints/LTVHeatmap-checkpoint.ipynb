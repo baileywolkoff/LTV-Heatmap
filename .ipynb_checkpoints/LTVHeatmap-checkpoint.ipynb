{
 "cells": [
  {
   "cell_type": "markdown",
   "id": "2144d70f-7192-46c6-a692-571f435c7b40",
   "metadata": {},
   "source": [
    "# LTV Heatmap\n",
    "Have to learn how to make an LTV Heatmap using Cohort analysis?"
   ]
  },
  {
   "cell_type": "code",
   "execution_count": 4,
   "id": "4c8aa027-708f-4428-9579-682aabda83f4",
   "metadata": {},
   "outputs": [],
   "source": [
    "# Libraries\n",
    "import pandas as pd\n",
    "import datetime as dt"
   ]
  },
  {
   "cell_type": "code",
   "execution_count": 2,
   "id": "5ee6ecee-970f-4bde-a702-ea32e0221e2f",
   "metadata": {},
   "outputs": [],
   "source": [
    "# load data\n",
    "df = pd.read_csv('payments.csv')"
   ]
  },
  {
   "cell_type": "markdown",
   "id": "aa20e44f-a192-4b71-9a40-bfc34fc40b2e",
   "metadata": {
    "tags": []
   },
   "source": [
    "### Preliminary Exploration"
   ]
  },
  {
   "cell_type": "code",
   "execution_count": 3,
   "id": "9cb9a07b-fbb0-4a8a-90b7-48c7a60b12aa",
   "metadata": {},
   "outputs": [
    {
     "data": {
      "text/html": [
       "<div>\n",
       "<style scoped>\n",
       "    .dataframe tbody tr th:only-of-type {\n",
       "        vertical-align: middle;\n",
       "    }\n",
       "\n",
       "    .dataframe tbody tr th {\n",
       "        vertical-align: top;\n",
       "    }\n",
       "\n",
       "    .dataframe thead th {\n",
       "        text-align: right;\n",
       "    }\n",
       "</style>\n",
       "<table border=\"1\" class=\"dataframe\">\n",
       "  <thead>\n",
       "    <tr style=\"text-align: right;\">\n",
       "      <th></th>\n",
       "      <th>account_id</th>\n",
       "      <th>payment_id</th>\n",
       "      <th>payment_usd</th>\n",
       "      <th>payment_date</th>\n",
       "    </tr>\n",
       "  </thead>\n",
       "  <tbody>\n",
       "    <tr>\n",
       "      <th>0</th>\n",
       "      <td>hbQ5GR1L54QtQAB</td>\n",
       "      <td>QhQfR06N8dQAO</td>\n",
       "      <td>50.00</td>\n",
       "      <td>2021-01-28</td>\n",
       "    </tr>\n",
       "    <tr>\n",
       "      <th>1</th>\n",
       "      <td>vsQ5GR1KF4QtQAH</td>\n",
       "      <td>Q7QfR06N8dQAO</td>\n",
       "      <td>968.07</td>\n",
       "      <td>2021-01-28</td>\n",
       "    </tr>\n",
       "    <tr>\n",
       "      <th>2</th>\n",
       "      <td>5jQ5GR1Uz4QtQAB</td>\n",
       "      <td>Q6QfR06N8dQAO</td>\n",
       "      <td>763.67</td>\n",
       "      <td>2021-01-28</td>\n",
       "    </tr>\n",
       "    <tr>\n",
       "      <th>3</th>\n",
       "      <td>hnQ5GR1O34QtQAB</td>\n",
       "      <td>Q2QfR06N8dQAO</td>\n",
       "      <td>2378.57</td>\n",
       "      <td>2021-01-28</td>\n",
       "    </tr>\n",
       "    <tr>\n",
       "      <th>4</th>\n",
       "      <td>ztQ5GR1Ha4QtQAF</td>\n",
       "      <td>Q0QfR06N8dQAO</td>\n",
       "      <td>2855.84</td>\n",
       "      <td>2021-01-28</td>\n",
       "    </tr>\n",
       "  </tbody>\n",
       "</table>\n",
       "</div>"
      ],
      "text/plain": [
       "        account_id     payment_id  payment_usd payment_date\n",
       "0  hbQ5GR1L54QtQAB  QhQfR06N8dQAO        50.00   2021-01-28\n",
       "1  vsQ5GR1KF4QtQAH  Q7QfR06N8dQAO       968.07   2021-01-28\n",
       "2  5jQ5GR1Uz4QtQAB  Q6QfR06N8dQAO       763.67   2021-01-28\n",
       "3  hnQ5GR1O34QtQAB  Q2QfR06N8dQAO      2378.57   2021-01-28\n",
       "4  ztQ5GR1Ha4QtQAF  Q0QfR06N8dQAO      2855.84   2021-01-28"
      ]
     },
     "execution_count": 3,
     "metadata": {},
     "output_type": "execute_result"
    }
   ],
   "source": [
    "df.head()"
   ]
  },
  {
   "cell_type": "code",
   "execution_count": null,
   "id": "b29f8c0a-9448-45ca-b73c-dcfd1c532a56",
   "metadata": {
    "tags": []
   },
   "outputs": [
    {
     "name": "stdout",
     "output_type": "stream",
     "text": [
      "<class 'pandas.core.frame.DataFrame'>\n",
      "RangeIndex: 6890 entries, 0 to 6889\n",
      "Data columns (total 4 columns):\n",
      " #   Column        Non-Null Count  Dtype  \n",
      "---  ------        --------------  -----  \n",
      " 0   account_id    6890 non-null   object \n",
      " 1   payment_id    6890 non-null   object \n",
      " 2   payment_usd   6890 non-null   float64\n",
      " 3   payment_date  6890 non-null   object \n",
      "dtypes: float64(1), object(3)\n",
      "memory usage: 215.4+ KB\n"
     ]
    }
   ],
   "source": [
    "df.info()"
   ]
  },
  {
   "cell_type": "code",
   "execution_count": null,
   "id": "76cf78e3-c8f5-46ef-8dbe-2d13d4269525",
   "metadata": {
    "tags": []
   },
   "outputs": [
    {
     "data": {
      "text/plain": [
       "xqQ5GR06N4QtQAC    28\n",
       "GzQ5GR1Fn4QtQAJ    27\n",
       "nUQ5GR1EK4QtQAT    25\n",
       "RcQ5GR0p44QtQAI    24\n",
       "cwQ5GR15j4QtQAE    24\n",
       "Name: account_id, dtype: int64"
      ]
     },
     "execution_count": 5,
     "metadata": {},
     "output_type": "execute_result"
    }
   ],
   "source": [
    "user_counts = pd.value_counts(df['account_id'])\n",
    "user_counts.head()"
   ]
  },
  {
   "cell_type": "code",
   "execution_count": 21,
   "id": "91c3d874-09fc-44c3-b55f-0c49f73a233c",
   "metadata": {},
   "outputs": [
    {
     "data": {
      "text/html": [
       "<div>\n",
       "<style scoped>\n",
       "    .dataframe tbody tr th:only-of-type {\n",
       "        vertical-align: middle;\n",
       "    }\n",
       "\n",
       "    .dataframe tbody tr th {\n",
       "        vertical-align: top;\n",
       "    }\n",
       "\n",
       "    .dataframe thead th {\n",
       "        text-align: right;\n",
       "    }\n",
       "</style>\n",
       "<table border=\"1\" class=\"dataframe\">\n",
       "  <thead>\n",
       "    <tr style=\"text-align: right;\">\n",
       "      <th></th>\n",
       "      <th>count</th>\n",
       "    </tr>\n",
       "  </thead>\n",
       "  <tbody>\n",
       "    <tr>\n",
       "      <th>CBQfR02t8dQA2</th>\n",
       "      <td>2</td>\n",
       "    </tr>\n",
       "    <tr>\n",
       "      <th>BtQfR02t8dQAM</th>\n",
       "      <td>2</td>\n",
       "    </tr>\n",
       "    <tr>\n",
       "      <th>AmQfR02t8dQAM</th>\n",
       "      <td>2</td>\n",
       "    </tr>\n",
       "    <tr>\n",
       "      <th>i4QfR05g8dQAA</th>\n",
       "      <td>2</td>\n",
       "    </tr>\n",
       "    <tr>\n",
       "      <th>i5QfR05g8dQAA</th>\n",
       "      <td>2</td>\n",
       "    </tr>\n",
       "    <tr>\n",
       "      <th>...</th>\n",
       "      <td>...</td>\n",
       "    </tr>\n",
       "    <tr>\n",
       "      <th>hwQfR0638dQAE</th>\n",
       "      <td>1</td>\n",
       "    </tr>\n",
       "    <tr>\n",
       "      <th>hxQfR0638dQAE</th>\n",
       "      <td>1</td>\n",
       "    </tr>\n",
       "    <tr>\n",
       "      <th>hyQfR0638dQAE</th>\n",
       "      <td>1</td>\n",
       "    </tr>\n",
       "    <tr>\n",
       "      <th>hzQfR0638dQAE</th>\n",
       "      <td>1</td>\n",
       "    </tr>\n",
       "    <tr>\n",
       "      <th>XyQfR05K8dQAK</th>\n",
       "      <td>1</td>\n",
       "    </tr>\n",
       "  </tbody>\n",
       "</table>\n",
       "<p>6611 rows × 1 columns</p>\n",
       "</div>"
      ],
      "text/plain": [
       "               count\n",
       "CBQfR02t8dQA2      2\n",
       "BtQfR02t8dQAM      2\n",
       "AmQfR02t8dQAM      2\n",
       "i4QfR05g8dQAA      2\n",
       "i5QfR05g8dQAA      2\n",
       "...              ...\n",
       "hwQfR0638dQAE      1\n",
       "hxQfR0638dQAE      1\n",
       "hyQfR0638dQAE      1\n",
       "hzQfR0638dQAE      1\n",
       "XyQfR05K8dQAK      1\n",
       "\n",
       "[6611 rows x 1 columns]"
      ]
     },
     "execution_count": 6,
     "metadata": {},
     "output_type": "execute_result"
    }
   ],
   "source": [
    "payment_id_counts = pd.value_counts(df['payment_id']).to_frame().rename(columns={'payment_id':'count'})\n",
    "payment_id_counts"
   ]
  },
  {
   "cell_type": "markdown",
   "id": "84a6d9cc-c194-4d77-870d-3b15be7ce19d",
   "metadata": {},
   "source": [
    "Weird....some of the payment IDs are duplicates, but theyre associated with different accounts?"
   ]
  },
  {
   "cell_type": "markdown",
   "id": "e4b9a10d-66d4-4ff7-a342-0e52b6eefbb2",
   "metadata": {
    "tags": []
   },
   "source": [
    "### Cleaning / Manipulating \n",
    "Things to do:\n",
    "- Convert `payment_date` column to datetime\n",
    "- Add YearMonth Column\n",
    "- "
   ]
  },
  {
   "cell_type": "code",
   "execution_count": 19,
   "id": "0ef7d051-f3ae-4fd2-8b47-dd2201eb8fd2",
   "metadata": {},
   "outputs": [
    {
     "data": {
      "text/plain": [
       "account_id      0\n",
       "payment_id      0\n",
       "payment_usd     0\n",
       "payment_date    0\n",
       "dtype: int64"
      ]
     },
     "execution_count": 7,
     "metadata": {},
     "output_type": "execute_result"
    }
   ],
   "source": [
    "# look for missing values\n",
    "df.isna().sum()"
   ]
  },
  {
   "cell_type": "markdown",
   "id": "9c378b9e-fcd3-4d25-8d8c-d987c9bc1a18",
   "metadata": {},
   "source": [
    "We saw before that there are some payment duplicates. Let's get a list of all the different duplicates\n"
   ]
  },
  {
   "cell_type": "code",
   "execution_count": null,
   "id": "02c2a20d-f3a7-4a33-8038-44ebc51345c6",
   "metadata": {},
   "outputs": [
    {
     "data": {
      "text/html": [
       "<div>\n",
       "<style scoped>\n",
       "    .dataframe tbody tr th:only-of-type {\n",
       "        vertical-align: middle;\n",
       "    }\n",
       "\n",
       "    .dataframe tbody tr th {\n",
       "        vertical-align: top;\n",
       "    }\n",
       "\n",
       "    .dataframe thead th {\n",
       "        text-align: right;\n",
       "    }\n",
       "</style>\n",
       "<table border=\"1\" class=\"dataframe\">\n",
       "  <thead>\n",
       "    <tr style=\"text-align: right;\">\n",
       "      <th></th>\n",
       "      <th>count</th>\n",
       "    </tr>\n",
       "  </thead>\n",
       "  <tbody>\n",
       "    <tr>\n",
       "      <th>CBQfR02t8dQA2</th>\n",
       "      <td>2</td>\n",
       "    </tr>\n",
       "    <tr>\n",
       "      <th>BtQfR02t8dQAM</th>\n",
       "      <td>2</td>\n",
       "    </tr>\n",
       "    <tr>\n",
       "      <th>AmQfR02t8dQAM</th>\n",
       "      <td>2</td>\n",
       "    </tr>\n",
       "    <tr>\n",
       "      <th>i4QfR05g8dQAA</th>\n",
       "      <td>2</td>\n",
       "    </tr>\n",
       "    <tr>\n",
       "      <th>i5QfR05g8dQAA</th>\n",
       "      <td>2</td>\n",
       "    </tr>\n",
       "    <tr>\n",
       "      <th>...</th>\n",
       "      <td>...</td>\n",
       "    </tr>\n",
       "    <tr>\n",
       "      <th>56QfR02t8dQAE</th>\n",
       "      <td>2</td>\n",
       "    </tr>\n",
       "    <tr>\n",
       "      <th>55QfR02t8dQAE</th>\n",
       "      <td>2</td>\n",
       "    </tr>\n",
       "    <tr>\n",
       "      <th>G6QfR05g8dQAI</th>\n",
       "      <td>2</td>\n",
       "    </tr>\n",
       "    <tr>\n",
       "      <th>AkQfR02t8dQAM</th>\n",
       "      <td>2</td>\n",
       "    </tr>\n",
       "    <tr>\n",
       "      <th>vaQfR05h8dQAE</th>\n",
       "      <td>2</td>\n",
       "    </tr>\n",
       "  </tbody>\n",
       "</table>\n",
       "<p>279 rows × 1 columns</p>\n",
       "</div>"
      ],
      "text/plain": [
       "               count\n",
       "CBQfR02t8dQA2      2\n",
       "BtQfR02t8dQAM      2\n",
       "AmQfR02t8dQAM      2\n",
       "i4QfR05g8dQAA      2\n",
       "i5QfR05g8dQAA      2\n",
       "...              ...\n",
       "56QfR02t8dQAE      2\n",
       "55QfR02t8dQAE      2\n",
       "G6QfR05g8dQAI      2\n",
       "AkQfR02t8dQAM      2\n",
       "vaQfR05h8dQAE      2\n",
       "\n",
       "[279 rows x 1 columns]"
      ]
     },
     "execution_count": 29,
     "metadata": {},
     "output_type": "execute_result"
    }
   ],
   "source": [
    "# View DF of duplicated payment id\n",
    "payment_id_counts.loc[payment_id_counts['count'] > 1]"
   ]
  },
  {
   "cell_type": "code",
   "execution_count": null,
   "id": "c6b000db-64f6-4e10-a9f3-a1b5cc7287c2",
   "metadata": {},
   "outputs": [],
   "source": [
    "#list of all the duplicated payment ids\n",
    "payment_dup_id = payment_id_counts.loc[payment_id_counts['count'] > 1].index.to_list()"
   ]
  },
  {
   "cell_type": "code",
   "execution_count": 11,
   "id": "fb48e960-fc30-4c8c-b277-5aa2c3ecd312",
   "metadata": {},
   "outputs": [
    {
     "data": {
      "text/html": [
       "<div>\n",
       "<style scoped>\n",
       "    .dataframe tbody tr th:only-of-type {\n",
       "        vertical-align: middle;\n",
       "    }\n",
       "\n",
       "    .dataframe tbody tr th {\n",
       "        vertical-align: top;\n",
       "    }\n",
       "\n",
       "    .dataframe thead th {\n",
       "        text-align: right;\n",
       "    }\n",
       "</style>\n",
       "<table border=\"1\" class=\"dataframe\">\n",
       "  <thead>\n",
       "    <tr style=\"text-align: right;\">\n",
       "      <th></th>\n",
       "      <th>account_id</th>\n",
       "      <th>payment_id</th>\n",
       "      <th>payment_usd</th>\n",
       "      <th>payment_date</th>\n",
       "    </tr>\n",
       "  </thead>\n",
       "  <tbody>\n",
       "    <tr>\n",
       "      <th>3821</th>\n",
       "      <td>O1Q5GR1SY4QtQAL</td>\n",
       "      <td>3iQfR02t8dQAE</td>\n",
       "      <td>125.00</td>\n",
       "      <td>2020-09-12</td>\n",
       "    </tr>\n",
       "    <tr>\n",
       "      <th>3378</th>\n",
       "      <td>10Q5GR0V04QtQAB</td>\n",
       "      <td>3iQfR02t8dQAE</td>\n",
       "      <td>14829.55</td>\n",
       "      <td>2020-09-30</td>\n",
       "    </tr>\n",
       "    <tr>\n",
       "      <th>3762</th>\n",
       "      <td>XrQ5GR1SZ4QtQAP</td>\n",
       "      <td>3sQfR02t8dQAE</td>\n",
       "      <td>250.00</td>\n",
       "      <td>2020-09-15</td>\n",
       "    </tr>\n",
       "    <tr>\n",
       "      <th>3842</th>\n",
       "      <td>aoQ5GR18t4QtQAA</td>\n",
       "      <td>3sQfR02t8dQAE</td>\n",
       "      <td>50.00</td>\n",
       "      <td>2020-09-11</td>\n",
       "    </tr>\n",
       "    <tr>\n",
       "      <th>3761</th>\n",
       "      <td>JQQ5GR1Rk4QtQAZ</td>\n",
       "      <td>3tQfR02t8dQAE</td>\n",
       "      <td>250.00</td>\n",
       "      <td>2020-09-15</td>\n",
       "    </tr>\n",
       "    <tr>\n",
       "      <th>...</th>\n",
       "      <td>...</td>\n",
       "      <td>...</td>\n",
       "      <td>...</td>\n",
       "      <td>...</td>\n",
       "    </tr>\n",
       "    <tr>\n",
       "      <th>5154</th>\n",
       "      <td>QmQ5GR1Ie4QtQAN</td>\n",
       "      <td>vtQfR05h8dQAE</td>\n",
       "      <td>250.00</td>\n",
       "      <td>2020-07-04</td>\n",
       "    </tr>\n",
       "    <tr>\n",
       "      <th>3896</th>\n",
       "      <td>YWQ5GR1L64QtQA3</td>\n",
       "      <td>wHQfR02t8dQAU</td>\n",
       "      <td>500.10</td>\n",
       "      <td>2020-09-08</td>\n",
       "    </tr>\n",
       "    <tr>\n",
       "      <th>3111</th>\n",
       "      <td>IfQ5GR0p64QtQAM</td>\n",
       "      <td>wHQfR02t8dQAU</td>\n",
       "      <td>2728.06</td>\n",
       "      <td>2020-10-09</td>\n",
       "    </tr>\n",
       "    <tr>\n",
       "      <th>1321</th>\n",
       "      <td>IfQ5GR1SC4QtQAL</td>\n",
       "      <td>yWQfR06N8dQAS</td>\n",
       "      <td>75.00</td>\n",
       "      <td>2020-12-10</td>\n",
       "    </tr>\n",
       "    <tr>\n",
       "      <th>748</th>\n",
       "      <td>2IQ5GR1cV4QtQAW</td>\n",
       "      <td>yWQfR06N8dQAS</td>\n",
       "      <td>500.00</td>\n",
       "      <td>2021-01-03</td>\n",
       "    </tr>\n",
       "  </tbody>\n",
       "</table>\n",
       "<p>558 rows × 4 columns</p>\n",
       "</div>"
      ],
      "text/plain": [
       "           account_id     payment_id  payment_usd payment_date\n",
       "3821  O1Q5GR1SY4QtQAL  3iQfR02t8dQAE       125.00   2020-09-12\n",
       "3378  10Q5GR0V04QtQAB  3iQfR02t8dQAE     14829.55   2020-09-30\n",
       "3762  XrQ5GR1SZ4QtQAP  3sQfR02t8dQAE       250.00   2020-09-15\n",
       "3842  aoQ5GR18t4QtQAA  3sQfR02t8dQAE        50.00   2020-09-11\n",
       "3761  JQQ5GR1Rk4QtQAZ  3tQfR02t8dQAE       250.00   2020-09-15\n",
       "...               ...            ...          ...          ...\n",
       "5154  QmQ5GR1Ie4QtQAN  vtQfR05h8dQAE       250.00   2020-07-04\n",
       "3896  YWQ5GR1L64QtQA3  wHQfR02t8dQAU       500.10   2020-09-08\n",
       "3111  IfQ5GR0p64QtQAM  wHQfR02t8dQAU      2728.06   2020-10-09\n",
       "1321  IfQ5GR1SC4QtQAL  yWQfR06N8dQAS        75.00   2020-12-10\n",
       "748   2IQ5GR1cV4QtQAW  yWQfR06N8dQAS       500.00   2021-01-03\n",
       "\n",
       "[558 rows x 4 columns]"
      ]
     },
     "execution_count": 11,
     "metadata": {},
     "output_type": "execute_result"
    }
   ],
   "source": [
    "# Get DataFrame with only these payment ids\n",
    "df.loc[df.duplicated(subset='payment_id', keep=False)].sort_values(by='payment_id')"
   ]
  },
  {
   "cell_type": "code",
   "execution_count": 15,
   "id": "55828b0b-3126-4aa5-8444-f358111f71a2",
   "metadata": {},
   "outputs": [
    {
     "name": "stdout",
     "output_type": "stream",
     "text": [
      "We had 279 duplicates, each appearing 2 times for a total of 279*2=558. This checks out\n"
     ]
    }
   ],
   "source": [
    "print(f\"We had {279} duplicates, each appearing {2} times for a total of 279*2={279*2}. This checks out\")"
   ]
  },
  {
   "cell_type": "markdown",
   "id": "38999171-abd5-4b17-a633-e8d4ba21aff9",
   "metadata": {},
   "source": [
    "We can see above that even though the `payment_id` are duplicated (twice for each), they appear to be associated with different values, dates, and accounts. Therefore it is justified to be keeping this data in our dataset, and treat the duplication as an artifact of the data entry."
   ]
  },
  {
   "cell_type": "code",
   "execution_count": null,
   "id": "e50d6a28-4c85-4a48-b0c8-1d77a1a570d6",
   "metadata": {},
   "outputs": [],
   "source": []
  }
 ],
 "metadata": {
  "kernelspec": {
   "display_name": "Python 3 (ipykernel)",
   "language": "python",
   "name": "python3"
  },
  "language_info": {
   "codemirror_mode": {
    "name": "ipython",
    "version": 3
   },
   "file_extension": ".py",
   "mimetype": "text/x-python",
   "name": "python",
   "nbconvert_exporter": "python",
   "pygments_lexer": "ipython3",
   "version": "3.8.13"
  }
 },
 "nbformat": 4,
 "nbformat_minor": 5
}
